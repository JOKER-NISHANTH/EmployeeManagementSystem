{
  "nbformat": 4,
  "nbformat_minor": 0,
  "metadata": {
    "colab": {
      "name": "PythonTechiSu.ipynb",
      "provenance": [],
      "authorship_tag": "ABX9TyO3cF8Yktj6ka9X1zYJfZ6g",
      "include_colab_link": true
    },
    "kernelspec": {
      "name": "python3",
      "display_name": "Python 3"
    }
  },
  "cells": [
    {
      "cell_type": "markdown",
      "metadata": {
        "id": "view-in-github",
        "colab_type": "text"
      },
      "source": [
        "<a href=\"https://colab.research.google.com/github/JOKER-NISHANTH/EmployeeManagementSystem/blob/master/PythonTechiSu.ipynb\" target=\"_parent\"><img src=\"https://colab.research.google.com/assets/colab-badge.svg\" alt=\"Open In Colab\"/></a>"
      ]
    },
    {
      "cell_type": "code",
      "metadata": {
        "id": "xnA2ocKgQrKe"
      },
      "source": [
        ""
      ],
      "execution_count": null,
      "outputs": []
    },
    {
      "cell_type": "markdown",
      "metadata": {
        "id": "u9xKd3oCQ2ME"
      },
      "source": [
        "# List Comprehension :\r\n",
        "\r\n",
        "List comprehension are useful and help  you write elegant code that's easy to read and debug...\r\n",
        "\r\n",
        "## Syntax : \r\n",
        "\r\n",
        "[ expression for item in iterable ]"
      ]
    },
    {
      "cell_type": "code",
      "metadata": {
        "colab": {
          "base_uri": "https://localhost:8080/"
        },
        "id": "vpZ5cdSFSTr3",
        "outputId": "93b51182-964e-48a4-ac2c-9716c3ecc695"
      },
      "source": [
        "lst = [1,2,3]\r\n",
        "print(lst)"
      ],
      "execution_count": 2,
      "outputs": [
        {
          "output_type": "stream",
          "text": [
            "[1, 2, 3]\n"
          ],
          "name": "stdout"
        }
      ]
    },
    {
      "cell_type": "code",
      "metadata": {
        "colab": {
          "base_uri": "https://localhost:8080/"
        },
        "id": "ZhHqLrqqSys4",
        "outputId": "557c5584-1d77-4586-b1df-b16df42fe313"
      },
      "source": [
        "List = [ x for x in range(1,11)]\r\n",
        "print(List)"
      ],
      "execution_count": 3,
      "outputs": [
        {
          "output_type": "stream",
          "text": [
            "[1, 2, 3, 4, 5, 6, 7, 8, 9, 10]\n"
          ],
          "name": "stdout"
        }
      ]
    },
    {
      "cell_type": "code",
      "metadata": {
        "colab": {
          "base_uri": "https://localhost:8080/"
        },
        "id": "OpHlRsBtTC2P",
        "outputId": "98f680d1-4b7b-47f5-acc2-7f601c580e10"
      },
      "source": [
        "List = [ x**2 for x in range(1,11)]\r\n",
        "print(List)"
      ],
      "execution_count": 5,
      "outputs": [
        {
          "output_type": "stream",
          "text": [
            "[1, 4, 9, 16, 25, 36, 49, 64, 81, 100]\n"
          ],
          "name": "stdout"
        }
      ]
    },
    {
      "cell_type": "markdown",
      "metadata": {
        "id": "6iP-kN14UiOp"
      },
      "source": [
        "#### True Statement in List Comprehension\r\n",
        "\r\n",
        "_Syntax_\r\n",
        "\r\n",
        "[ expression for item in iterable if condition]"
      ]
    },
    {
      "cell_type": "markdown",
      "metadata": {
        "id": "LC7tNCGETgIm"
      },
      "source": [
        "\r\n",
        "### Print Even Number \r\n",
        "---\r\n",
        "\r\n"
      ]
    },
    {
      "cell_type": "code",
      "metadata": {
        "colab": {
          "base_uri": "https://localhost:8080/"
        },
        "id": "0gJK7o2hTOvd",
        "outputId": "aae5f012-d593-41c3-e802-a87310baf662"
      },
      "source": [
        "List = [ x for x in range(1,11) if x%2==0]\r\n",
        "print(List)"
      ],
      "execution_count": 6,
      "outputs": [
        {
          "output_type": "stream",
          "text": [
            "[2, 4, 6, 8, 10]\n"
          ],
          "name": "stdout"
        }
      ]
    },
    {
      "cell_type": "markdown",
      "metadata": {
        "id": "1O8_TXAgTra7"
      },
      "source": [
        "### Print Odd Number"
      ]
    },
    {
      "cell_type": "code",
      "metadata": {
        "colab": {
          "base_uri": "https://localhost:8080/"
        },
        "id": "MNTQ1PwyT6_O",
        "outputId": "f5916418-bc01-49e6-f01a-f07a28da7e83"
      },
      "source": [
        "List = [ x for x in range(1,11) if not x%2==0]\r\n",
        "print(List)"
      ],
      "execution_count": 8,
      "outputs": [
        {
          "output_type": "stream",
          "text": [
            "[1, 3, 5, 7, 9]\n"
          ],
          "name": "stdout"
        }
      ]
    },
    {
      "cell_type": "markdown",
      "metadata": {
        "id": "2hZWtmujURyR"
      },
      "source": [
        "#### True And False Statement in List Comprehension\r\n",
        "\r\n",
        "_Syntax_\r\n",
        "\r\n",
        "[ T-expr if conditon else F-expr for item in iterable ]"
      ]
    },
    {
      "cell_type": "code",
      "metadata": {
        "colab": {
          "base_uri": "https://localhost:8080/"
        },
        "id": "i1q-FZgZVtk2",
        "outputId": "be870acc-187a-4ccf-9935-b3335ab5abe8"
      },
      "source": [
        "List = [ x if (x > 2) else x+1 for x in range(1,11)]\r\n",
        "print(List)"
      ],
      "execution_count": 9,
      "outputs": [
        {
          "output_type": "stream",
          "text": [
            "[2, 3, 3, 4, 5, 6, 7, 8, 9, 10]\n"
          ],
          "name": "stdout"
        }
      ]
    },
    {
      "cell_type": "markdown",
      "metadata": {
        "id": "ayjrDaoRW2Jp"
      },
      "source": [
        "Print 1 to 10 and Even Numbers square and Odd numbers cube\r\n",
        "\r\n",
        "\r\n",
        "eg:\r\n",
        "```\r\n",
        "  1, 4, 27 , 16 ,125 .......,729 , 100\r\n",
        "```"
      ]
    },
    {
      "cell_type": "code",
      "metadata": {
        "colab": {
          "base_uri": "https://localhost:8080/"
        },
        "id": "7q7cRqyqWgjV",
        "outputId": "988f4984-8da9-4b3c-bcd5-d82b358bdfee"
      },
      "source": [
        "List = [ x**2 if x%2==0 else x**3 for x in range(1,11)]\r\n",
        "print(List)"
      ],
      "execution_count": 10,
      "outputs": [
        {
          "output_type": "stream",
          "text": [
            "[1, 4, 27, 16, 125, 36, 343, 64, 729, 100]\n"
          ],
          "name": "stdout"
        }
      ]
    },
    {
      "cell_type": "markdown",
      "metadata": {
        "id": "N7nTQ8qVXl43"
      },
      "source": [
        "**List Comprehension examples**"
      ]
    },
    {
      "cell_type": "markdown",
      "metadata": {
        "id": "yBkgZtjuX0wB"
      },
      "source": [
        "1. Question \r\n",
        "Multiple no to List"
      ]
    },
    {
      "cell_type": "code",
      "metadata": {
        "colab": {
          "base_uri": "https://localhost:8080/"
        },
        "id": "qF4vcWpZX_pG",
        "outputId": "bb94e5c8-1241-4c04-afdc-faefbb3b094d"
      },
      "source": [
        "List = [ 1,2,3,4,5 ]\r\n",
        "Result = [ x*2 for x in List]\r\n",
        "print(Result)"
      ],
      "execution_count": 11,
      "outputs": [
        {
          "output_type": "stream",
          "text": [
            "[2, 4, 6, 8, 10]\n"
          ],
          "name": "stdout"
        }
      ]
    },
    {
      "cell_type": "markdown",
      "metadata": {
        "id": "1XR4q9iKYiLG"
      },
      "source": [
        "2 . Extract numbers or alphabets form string"
      ]
    },
    {
      "cell_type": "code",
      "metadata": {
        "colab": {
          "base_uri": "https://localhost:8080/"
        },
        "id": "VIWZbaVHZDYR",
        "outputId": "abbb2feb-c199-4482-80f8-f6e5ba53b75b"
      },
      "source": [
        "name = \"BlackPearl379\"\r\n",
        "Result = [x for x in name if x.isalpha()]\r\n",
        "print(Result)\r\n",
        "Result = [x for x in name if x.isdigit()]\r\n",
        "print(Result)"
      ],
      "execution_count": 15,
      "outputs": [
        {
          "output_type": "stream",
          "text": [
            "['B', 'l', 'a', 'c', 'k', 'P', 'e', 'a', 'r', 'l']\n",
            "['3', '7', '9']\n"
          ],
          "name": "stdout"
        }
      ]
    },
    {
      "cell_type": "markdown",
      "metadata": {
        "id": "VmiiE7AMaMY5"
      },
      "source": [
        "3. To Change cases of words in List"
      ]
    },
    {
      "cell_type": "code",
      "metadata": {
        "colab": {
          "base_uri": "https://localhost:8080/"
        },
        "id": "KngUUUGGaRgi",
        "outputId": "ff22ef1b-bbe3-4f93-82ff-2b54fd41b6a4"
      },
      "source": [
        "fruits = ['apple','orange','grapes']\r\n",
        "UpperCase = [ x.upper() for x in fruits]\r\n",
        "print(UpperCase)\r\n"
      ],
      "execution_count": 16,
      "outputs": [
        {
          "output_type": "stream",
          "text": [
            "['APPLE', 'ORANGE', 'GRAPES']\n"
          ],
          "name": "stdout"
        }
      ]
    },
    {
      "cell_type": "markdown",
      "metadata": {
        "id": "FzMJIA0XbDZD"
      },
      "source": [
        "4. Nested List Comprehension"
      ]
    },
    {
      "cell_type": "code",
      "metadata": {
        "colab": {
          "base_uri": "https://localhost:8080/"
        },
        "id": "v8B8v46SbJbE",
        "outputId": "6771e201-4b9e-4b35-de08-9ba7342abaee"
      },
      "source": [
        "NestedList = [[1,2,3,4,5],['a','b','c','d','e'],['Cyber','Black']]\r\n",
        "print(NestedList)\r\n",
        "Result = [ x[0] for x in NestedList]\r\n",
        "print(Result)\r\n",
        "Result = [ x[1] for x in NestedList]\r\n",
        "print(Result)\r\n"
      ],
      "execution_count": 21,
      "outputs": [
        {
          "output_type": "stream",
          "text": [
            "[[1, 2, 3, 4, 5], ['a', 'b', 'c', 'd', 'e'], ['Cyber', 'Black']]\n",
            "[1, 'a', 'Cyber']\n",
            "[2, 'b', 'Black']\n"
          ],
          "name": "stdout"
        }
      ]
    },
    {
      "cell_type": "markdown",
      "metadata": {
        "id": "5A21_4ntccrQ"
      },
      "source": [
        "5. Addition of two List"
      ]
    },
    {
      "cell_type": "code",
      "metadata": {
        "colab": {
          "base_uri": "https://localhost:8080/"
        },
        "id": "9FBxyR9Ucgec",
        "outputId": "e8a0ffda-92d0-4adf-8afc-cb14e469618f"
      },
      "source": [
        "List_1 = [1,2]\r\n",
        "List_2 = [3,4]\r\n",
        "\r\n",
        "Added = [x+y for x in List_1 for y in List_2]\r\n",
        "print(Added)"
      ],
      "execution_count": 22,
      "outputs": [
        {
          "output_type": "stream",
          "text": [
            "[4, 5, 5, 6]\n"
          ],
          "name": "stdout"
        }
      ]
    },
    {
      "cell_type": "markdown",
      "metadata": {
        "id": "W5SCzXKPdQ63"
      },
      "source": [
        "Addition  of two List (Corresponding Values)\r\n"
      ]
    },
    {
      "cell_type": "code",
      "metadata": {
        "colab": {
          "base_uri": "https://localhost:8080/"
        },
        "id": "iuKzUIszdbZI",
        "outputId": "9f3c1313-e38e-42ae-e2de-7ab26a069e62"
      },
      "source": [
        "List_1 = [1,2]\r\n",
        "List_2 = [3,4]\r\n",
        "\r\n",
        "Added = [List_1[i] + List_2 [i] for i in range(len(List_1))]\r\n",
        "print(Added)"
      ],
      "execution_count": 23,
      "outputs": [
        {
          "output_type": "stream",
          "text": [
            "[4, 6]\n"
          ],
          "name": "stdout"
        }
      ]
    },
    {
      "cell_type": "markdown",
      "metadata": {
        "id": "BRWAGzvteEec"
      },
      "source": [
        "6. Forming Unique pairs:"
      ]
    },
    {
      "cell_type": "code",
      "metadata": {
        "colab": {
          "base_uri": "https://localhost:8080/"
        },
        "id": "xxUrLOR8eKHF",
        "outputId": "ec840552-1a4d-4fba-d7fa-347f179a0a1e"
      },
      "source": [
        "List_1 = [1,2]\r\n",
        "List_2 = [3,4]\r\n",
        "Unique = [ (x,y) for x in List_1 for y in List_2 if not x==y]\r\n",
        "print(Unique)"
      ],
      "execution_count": 24,
      "outputs": [
        {
          "output_type": "stream",
          "text": [
            "[(1, 3), (1, 4), (2, 3), (2, 4)]\n"
          ],
          "name": "stdout"
        }
      ]
    },
    {
      "cell_type": "markdown",
      "metadata": {
        "id": "5mdOBk8zfEM5"
      },
      "source": [
        "7. Function"
      ]
    },
    {
      "cell_type": "code",
      "metadata": {
        "colab": {
          "base_uri": "https://localhost:8080/"
        },
        "id": "SLzGGB5EfIZL",
        "outputId": "65a26fed-5f25-4d4f-bbf6-efef4f94a189"
      },
      "source": [
        "def square(x):\r\n",
        "  return (x*x)\r\n",
        "\r\n",
        "print([square(x) for x in range(1,11)])  "
      ],
      "execution_count": 26,
      "outputs": [
        {
          "output_type": "stream",
          "text": [
            "[1, 4, 9, 16, 25, 36, 49, 64, 81, 100]\n"
          ],
          "name": "stdout"
        }
      ]
    },
    {
      "cell_type": "markdown",
      "metadata": {
        "id": "ZuKxrS6Xfu0n"
      },
      "source": [
        "====================================================================="
      ]
    },
    {
      "cell_type": "markdown",
      "metadata": {
        "id": "6DbqaTSGfz4R"
      },
      "source": [
        "# Function\r\n",
        "\r\n",
        "Python function are categorized into \r\n",
        "\r\n",
        "* in-built function\r\n",
        "* User defined functions\r\n",
        "  \r\n",
        "  * Function Definition\r\n",
        "  * Function Calling\r\n",
        "\r\n",
        "_Syntax_\r\n",
        "\r\n",
        "```python\r\n",
        "  \r\n",
        "  def function_name(arguments): # arguments => Optional \r\n",
        "    # Code\r\n",
        "    return variable\r\n",
        "\r\n",
        "\r\n",
        "# Function Call\r\n",
        "function_name()\r\n",
        "```"
      ]
    },
    {
      "cell_type": "markdown",
      "metadata": {
        "id": "Q7x2FwB7hnOc"
      },
      "source": [
        "1. Function Without Arg"
      ]
    },
    {
      "cell_type": "code",
      "metadata": {
        "colab": {
          "base_uri": "https://localhost:8080/"
        },
        "id": "qSbzrs5Mht7F",
        "outputId": "e08a130f-1e2f-4892-e981-fb5dbf5c2001"
      },
      "source": [
        "def greet():\r\n",
        "  print(\"Welcome\")\r\n",
        "\r\n",
        "greet()  "
      ],
      "execution_count": 64,
      "outputs": [
        {
          "output_type": "stream",
          "text": [
            "Welcome\n"
          ],
          "name": "stdout"
        }
      ]
    },
    {
      "cell_type": "markdown",
      "metadata": {
        "id": "tL46GZPGh939"
      },
      "source": [
        "2. Function with Postional Arg"
      ]
    },
    {
      "cell_type": "code",
      "metadata": {
        "colab": {
          "base_uri": "https://localhost:8080/"
        },
        "id": "FD557kIeiI-f",
        "outputId": "570f17bf-5667-44e1-db74-42bf1eeb06a4"
      },
      "source": [
        "def print_name(name) -> str:\r\n",
        "  print(f\"Heartly Welcome! {name}\")\r\n",
        "\r\n",
        "\r\n",
        "print_name('Black Pearl')"
      ],
      "execution_count": 65,
      "outputs": [
        {
          "output_type": "stream",
          "text": [
            "Heartly Welcome! Black Pearl\n"
          ],
          "name": "stdout"
        }
      ]
    },
    {
      "cell_type": "markdown",
      "metadata": {
        "id": "sxL7P_zRjNAp"
      },
      "source": [
        "3. returning value "
      ]
    },
    {
      "cell_type": "code",
      "metadata": {
        "colab": {
          "base_uri": "https://localhost:8080/"
        },
        "id": "bcLzAJrMjUtu",
        "outputId": "64b86b45-49c5-4091-ba51-8b54a5ea5684"
      },
      "source": [
        "def add(num1,num2):\r\n",
        "  return (num1+num2)\r\n",
        "\r\n",
        "result = add(10,15)\r\n",
        "print(result)\r\n",
        "result=add(num2=10,num1=40)\r\n",
        "print(result)\r\n"
      ],
      "execution_count": 66,
      "outputs": [
        {
          "output_type": "stream",
          "text": [
            "25\n",
            "50\n"
          ],
          "name": "stdout"
        }
      ]
    },
    {
      "cell_type": "code",
      "metadata": {
        "colab": {
          "base_uri": "https://localhost:8080/"
        },
        "id": "xqAR7kzwkKRB",
        "outputId": "85240a2f-a2fb-4868-8908-b79bac3f8270"
      },
      "source": [
        "def calc(x,y):\r\n",
        "  add = x + y\r\n",
        "  sub = x - y\r\n",
        "  mul = x * y\r\n",
        "  div = x / y\r\n",
        "  rem = x % y\r\n",
        "\r\n",
        "  return add ,sub , mul , div , rem\r\n",
        "\r\n",
        "\r\n",
        "num1 , num2 = 10 , 5\r\n",
        "Result = calc(y=num2,x=num1)\r\n",
        "print(Result) # printed in tuple format\r\n",
        "\r\n",
        "Add , Sub , Mul, Div , Rem = calc(x=num1,y=num2)\r\n",
        "print(Add , Sub , Mul, Div , Rem )\r\n",
        "\r\n",
        "\r\n"
      ],
      "execution_count": 67,
      "outputs": [
        {
          "output_type": "stream",
          "text": [
            "(15, 5, 50, 2.0, 0)\n",
            "15 5 50 2.0 0\n"
          ],
          "name": "stdout"
        }
      ]
    },
    {
      "cell_type": "markdown",
      "metadata": {
        "id": "inpXUcI-l-Xw"
      },
      "source": [
        "4. Function with default arg"
      ]
    },
    {
      "cell_type": "code",
      "metadata": {
        "colab": {
          "base_uri": "https://localhost:8080/"
        },
        "id": "1-FZYU2HmGfv",
        "outputId": "37b078a5-085d-45b5-90c9-6d614c04ab91"
      },
      "source": [
        "# pi = default\r\n",
        "def area(radius , pi=3.14):\r\n",
        "  return pi * radius**2\r\n",
        "\r\n",
        "\r\n",
        "print(area(10))\r\n",
        "print(area(10,2))"
      ],
      "execution_count": 68,
      "outputs": [
        {
          "output_type": "stream",
          "text": [
            "314.0\n",
            "200\n"
          ],
          "name": "stdout"
        }
      ]
    },
    {
      "cell_type": "markdown",
      "metadata": {
        "id": "t1moxUrQnMba"
      },
      "source": [
        "5. Keyworded argument"
      ]
    },
    {
      "cell_type": "code",
      "metadata": {
        "colab": {
          "base_uri": "https://localhost:8080/"
        },
        "id": "TQHTMnYJnTMw",
        "outputId": "29768ad3-0325-438a-bd53-7b9b37c93672"
      },
      "source": [
        "def printval(x,y):\r\n",
        "  print(\"x\",x)\r\n",
        "  print(\"y\",y)\r\n",
        "\r\n",
        "printval(777,999)\r\n",
        "printval(y=777,x=999)"
      ],
      "execution_count": 69,
      "outputs": [
        {
          "output_type": "stream",
          "text": [
            "x 777\n",
            "y 999\n",
            "x 999\n",
            "y 777\n"
          ],
          "name": "stdout"
        }
      ]
    },
    {
      "cell_type": "markdown",
      "metadata": {
        "id": "z1rIJSd_oEtG"
      },
      "source": [
        "6. Variable length argument"
      ]
    },
    {
      "cell_type": "code",
      "metadata": {
        "colab": {
          "base_uri": "https://localhost:8080/"
        },
        "id": "Lq7uCl8ZoNGT",
        "outputId": "5283cc7a-cbaf-419a-e04c-637ee3f48268"
      },
      "source": [
        "# *value = *arg\r\n",
        "\r\n",
        "def multi_value(*value):\r\n",
        "  print(value)\r\n",
        "  print(*value)\r\n",
        "  print(f\"Addition of value : {sum(value)}\\n\")\r\n",
        "  for x in value:\r\n",
        "    print(f\"Square of value {x}: {x**2}\")\r\n",
        "\r\n",
        "multi_value(1,2,3,4,5)"
      ],
      "execution_count": 70,
      "outputs": [
        {
          "output_type": "stream",
          "text": [
            "(1, 2, 3, 4, 5)\n",
            "1 2 3 4 5\n",
            "Addition of value : 15\n",
            "\n",
            "Square of value 1: 1\n",
            "Square of value 2: 4\n",
            "Square of value 3: 9\n",
            "Square of value 4: 16\n",
            "Square of value 5: 25\n"
          ],
          "name": "stdout"
        }
      ]
    },
    {
      "cell_type": "markdown",
      "metadata": {
        "id": "4eb8kWq5qJ6p"
      },
      "source": [
        "7. **kwargs = keyword length arguments"
      ]
    },
    {
      "cell_type": "code",
      "metadata": {
        "colab": {
          "base_uri": "https://localhost:8080/"
        },
        "id": "ncKO_iWHqS1i",
        "outputId": "d11dcf67-b12f-4b86-a4a9-d58bd3541519"
      },
      "source": [
        "def List(**items):\r\n",
        "  print(items) # Return DICT\r\n",
        "  \r\n",
        "  print(*items) # Return Key  \r\n",
        "  \r\n",
        "  print(items['apple'])\r\n",
        "\r\n",
        "  print(items)\r\n",
        "\r\n",
        "\r\n",
        "List(apple=2,manjo=6,lemon=4)"
      ],
      "execution_count": 71,
      "outputs": [
        {
          "output_type": "stream",
          "text": [
            "{'apple': 2, 'manjo': 6, 'lemon': 4}\n",
            "apple manjo lemon\n",
            "2\n",
            "{'apple': 2, 'manjo': 6, 'lemon': 4}\n"
          ],
          "name": "stdout"
        }
      ]
    },
    {
      "cell_type": "markdown",
      "metadata": {
        "id": "-p2iOi5esKuj"
      },
      "source": [
        "_**\\*args and **kwargs**_"
      ]
    },
    {
      "cell_type": "code",
      "metadata": {
        "colab": {
          "base_uri": "https://localhost:8080/"
        },
        "id": "c92ILVcGsenq",
        "outputId": "bb879399-66af-4820-a24d-d21a00abe6c2"
      },
      "source": [
        "def func(*args,**kwargs):\r\n",
        "  print(args) # Tuple\r\n",
        "  print(kwargs) # Dict\r\n",
        "\r\n",
        "func(1,2,3,4,a=10,b=20,c=30,d=40)"
      ],
      "execution_count": 72,
      "outputs": [
        {
          "output_type": "stream",
          "text": [
            "(1, 2, 3, 4)\n",
            "{'a': 10, 'b': 20, 'c': 30, 'd': 40}\n"
          ],
          "name": "stdout"
        }
      ]
    },
    {
      "cell_type": "markdown",
      "metadata": {
        "id": "KP3ih84KwK1c"
      },
      "source": [
        "============================================================================="
      ]
    },
    {
      "cell_type": "markdown",
      "metadata": {
        "id": "fLIWaqGywP7U"
      },
      "source": [
        "# Recursive Function:\r\n",
        "\r\n",
        "Function calling itself..\r\n",
        "\r\n",
        "- Base Case ==> Terminating from recursive\r\n",
        "- Recursive Case ==> Calling itself"
      ]
    },
    {
      "cell_type": "markdown",
      "metadata": {
        "id": "HijVTA12xApE"
      },
      "source": [
        "Example\r\n",
        "\r\n",
        "1.   Factorial\r\n",
        "\r\n",
        "Stack memory\r\n",
        "\r\n",
        "LIFO (last in first out )\r\n",
        "\r\n",
        "n = 5\r\n",
        "\r\n",
        "5 *fact(4) = 5*24 = 120\r\n",
        "\r\n",
        "4 *fact(3) = 4*6 = 24\r\n",
        "\r\n",
        "3 *fact(2) = 3*2 = 6\r\n",
        "\r\n",
        "2 *fact(1) = 2*1 = 2\r\n",
        "\r\n",
        "fact(1) = 1\r\n",
        "\r\n"
      ]
    },
    {
      "cell_type": "code",
      "metadata": {
        "colab": {
          "base_uri": "https://localhost:8080/"
        },
        "id": "kAMKJagQwzyS",
        "outputId": "336b3ae4-2f5b-481f-a3cb-2829f312dd9c"
      },
      "source": [
        "def fact(n):\r\n",
        "  if n==0 or n==1:\r\n",
        "    return 1\r\n",
        "  else:\r\n",
        "    return n*fact(n-1)\r\n",
        "n = int(input('Enter the number : '))\r\n",
        "res = fact(n)\r\n",
        "print(f\"Factorial of {n} is {res}\")"
      ],
      "execution_count": 75,
      "outputs": [
        {
          "output_type": "stream",
          "text": [
            "Enter the number : 6\n",
            "Factorial of 6 is 720\n"
          ],
          "name": "stdout"
        }
      ]
    },
    {
      "cell_type": "markdown",
      "metadata": {
        "id": "sWIexmU30ars"
      },
      "source": [
        "2. Sum of digits\r\n",
        "\r\n",
        "eg:\r\n",
        "\r\n",
        "n=1234\r\n",
        "\r\n",
        "= 1 + 2 + 3 + 4\r\n",
        "\r\n",
        "= 10\r\n",
        "\r\n",
        "\r\n",
        "\r\n",
        "Logic\r\n",
        "\r\n",
        "1234%10 + sod(1234//10) = 4 + sod(123) = 4 + 6 = 10\r\n",
        "123%10 + sod(123//10)   = 3 + sod(12)  = 3+3   = 6\r\n",
        "12%10 + sod(12//10)     = 2 + sod(1)   = 2+1   = 3\r\n",
        "1%10 + sod(1//10)       = 1 + sod(0)   = 1\r\n",
        "0\r\n"
      ]
    },
    {
      "cell_type": "code",
      "metadata": {
        "colab": {
          "base_uri": "https://localhost:8080/"
        },
        "id": "ySYFAJko0ofc",
        "outputId": "b461b2e3-78f9-4f36-dcec-8c424cb80011"
      },
      "source": [
        "def sod(n):\r\n",
        "  if n == 0:\r\n",
        "    return 0\r\n",
        "  else:\r\n",
        "    return n%10 + sod(n//10)\r\n",
        "n = int(input(\"Enter the number : \"))\r\n",
        "res = sod(n)\r\n",
        "print(f\"Sum of digits {n} : {res} \")"
      ],
      "execution_count": 76,
      "outputs": [
        {
          "output_type": "stream",
          "text": [
            "Enter the number : 1234\n",
            "Sum of digits 1234 : 10 \n"
          ],
          "name": "stdout"
        }
      ]
    },
    {
      "cell_type": "markdown",
      "metadata": {
        "id": "Svcxy6IX9uu8"
      },
      "source": [
        "# Lambda Function / Anonymous Function\r\n",
        "\r\n",
        "function\r\n",
        "\r\n",
        "```python\r\n",
        "def function_name():\r\n",
        "  #code\r\n",
        "  return statement\r\n",
        "```\r\n",
        "\r\n",
        "lambda function\r\n",
        "\r\n",
        "```python\r\n",
        "\r\n",
        "variable(fun-obj) = lambda arguments : expression\r\n",
        "```\r\n",
        "\r\n",
        "\r\n",
        "- Not defined by def keyword Function returns a object one-line funtions Can take any no of arguments can't access _**global**_ variables\r\n",
        "\r\n",
        "- Function does not any name ..\r\n",
        "\r\n",
        "- Defined by **_Lambda_** keyword\r\n",
        "\r\n",
        "\r\n"
      ]
    },
    {
      "cell_type": "code",
      "metadata": {
        "colab": {
          "base_uri": "https://localhost:8080/"
        },
        "id": "4hldGHPZ-bAP",
        "outputId": "6f976f5c-2ae9-4c32-b581-f4728f316d4e"
      },
      "source": [
        "# Sum of no\r\n",
        "\r\n",
        "def sum(x,y):\r\n",
        "  return x + y\r\n",
        "\r\n",
        "res = sum(2,3)  \r\n",
        "print(\"Sum : \",res)"
      ],
      "execution_count": 77,
      "outputs": [
        {
          "output_type": "stream",
          "text": [
            "Sum :  5\n"
          ],
          "name": "stdout"
        }
      ]
    },
    {
      "cell_type": "code",
      "metadata": {
        "colab": {
          "base_uri": "https://localhost:8080/"
        },
        "id": "yKyCkI4e_kg6",
        "outputId": "b0ddfc31-08a2-4837-b092-f1e31dd3ef1b"
      },
      "source": [
        "sum = lambda x,y : x+y\r\n",
        "print(\"Sum : \",sum(55,45))"
      ],
      "execution_count": 78,
      "outputs": [
        {
          "output_type": "stream",
          "text": [
            "Sum :  100\n"
          ],
          "name": "stdout"
        }
      ]
    },
    {
      "cell_type": "code",
      "metadata": {
        "colab": {
          "base_uri": "https://localhost:8080/"
        },
        "id": "2heqO4d3_8he",
        "outputId": "83145716-4171-4ccd-f486-a8af9d7aec09"
      },
      "source": [
        "square  = lambda x : x*x\r\n",
        "print(\"Square : \",square(5))"
      ],
      "execution_count": 83,
      "outputs": [
        {
          "output_type": "stream",
          "text": [
            "Square :  25\n"
          ],
          "name": "stdout"
        }
      ]
    },
    {
      "cell_type": "markdown",
      "metadata": {
        "id": "hzTR0a6DDH24"
      },
      "source": [
        "# Map Function\r\n",
        "\r\n",
        "```python\r\n",
        "\r\n",
        "map(function ,sequence)\r\n",
        "\r\n",
        "```      "
      ]
    },
    {
      "cell_type": "code",
      "metadata": {
        "colab": {
          "base_uri": "https://localhost:8080/"
        },
        "id": "gya_vPVXDc5p",
        "outputId": "ea539708-1b28-458c-910b-35a77cf54734"
      },
      "source": [
        "def square(n):\r\n",
        "  return n**2\r\n",
        "List = [1,2,3,4,5]\r\n",
        "Result = []\r\n",
        "for sq in List:\r\n",
        "  Result.append(square(sq))\r\n",
        "print(Result)  "
      ],
      "execution_count": 84,
      "outputs": [
        {
          "output_type": "stream",
          "text": [
            "[1, 4, 9, 16, 25]\n"
          ],
          "name": "stdout"
        }
      ]
    },
    {
      "cell_type": "code",
      "metadata": {
        "colab": {
          "base_uri": "https://localhost:8080/"
        },
        "id": "x9iyDplQD7nw",
        "outputId": "4595d5d6-89b3-40bd-d814-769e006f7bdf"
      },
      "source": [
        "def square(n):\r\n",
        "  return n**2\r\n",
        "\r\n",
        "List = [1,2,3,4,5]  \r\n",
        "\r\n",
        "Result = map(square,List)\r\n",
        "print(Result)\r\n",
        "\r\n",
        "ListResult = list(map(square,List))\r\n",
        "print(ListResult)\r\n"
      ],
      "execution_count": 86,
      "outputs": [
        {
          "output_type": "stream",
          "text": [
            "<map object at 0x7efc5166b128>\n",
            "[1, 4, 9, 16, 25]\n"
          ],
          "name": "stdout"
        }
      ]
    },
    {
      "cell_type": "code",
      "metadata": {
        "colab": {
          "base_uri": "https://localhost:8080/"
        },
        "id": "Wyrdy0frFIr4",
        "outputId": "8d6a70f7-be02-4411-9fee-7ce4bc742f2c"
      },
      "source": [
        "List = [1,2,3,4,5] \r\n",
        "Result = map(lambda x:x**2,List)\r\n",
        "print(*Result)"
      ],
      "execution_count": 89,
      "outputs": [
        {
          "output_type": "stream",
          "text": [
            "1 4 9 16 25\n"
          ],
          "name": "stdout"
        }
      ]
    },
    {
      "cell_type": "markdown",
      "metadata": {
        "id": "B6LRolJXFzR4"
      },
      "source": [
        "map(function ,sequence)\r\n",
        "\r\n",
        "sequence = multiple argument"
      ]
    },
    {
      "cell_type": "code",
      "metadata": {
        "colab": {
          "base_uri": "https://localhost:8080/"
        },
        "id": "p0AQpZqnF7Jq",
        "outputId": "e52f7543-60d7-4aac-e9e9-64640a53958a"
      },
      "source": [
        "List_1 = [1,2,3]\r\n",
        "List_2 = [1,1,1]\r\n",
        "\r\n",
        "Result = tuple( map(lambda x , y : x + y,List_1, List_2))\r\n",
        "print(Result)\r\n"
      ],
      "execution_count": 90,
      "outputs": [
        {
          "output_type": "stream",
          "text": [
            "(2, 3, 4)\n"
          ],
          "name": "stdout"
        }
      ]
    },
    {
      "cell_type": "markdown",
      "metadata": {
        "id": "nxDnPAVVGu-U"
      },
      "source": [
        "# Filter and Reduce Function\r\n",
        "\r\n"
      ]
    },
    {
      "cell_type": "markdown",
      "metadata": {
        "id": "hgsG3mtfG_LB"
      },
      "source": [
        "Example\r\n",
        "\r\n",
        "1. Display even no in range (1 to 10)"
      ]
    },
    {
      "cell_type": "code",
      "metadata": {
        "colab": {
          "base_uri": "https://localhost:8080/"
        },
        "id": "-fpDLKY6Hbk7",
        "outputId": "a769b22b-1309-485c-d6fb-54699e8360d9"
      },
      "source": [
        "for ev in range(1,11):\r\n",
        "  if ev%2==0:\r\n",
        "    print(ev)"
      ],
      "execution_count": 92,
      "outputs": [
        {
          "output_type": "stream",
          "text": [
            "2\n",
            "4\n",
            "6\n",
            "8\n",
            "10\n"
          ],
          "name": "stdout"
        }
      ]
    },
    {
      "cell_type": "markdown",
      "metadata": {
        "id": "N4FAr1n8JEK0"
      },
      "source": [
        "Filter function\r\n",
        "\r\n",
        "_Syntax_\r\n",
        "\r\n",
        "```python\r\n",
        "\r\n",
        "filter(function , *iterable)\r\n",
        "```"
      ]
    },
    {
      "cell_type": "code",
      "metadata": {
        "colab": {
          "base_uri": "https://localhost:8080/"
        },
        "id": "5-ckCl8JHHmW",
        "outputId": "903356b1-91a3-4642-ff65-56078afd3bcc"
      },
      "source": [
        "Even = filter(lambda x :x%2==0 , range(1,11))\r\n",
        "print(Even)\r\n",
        "\r\n",
        "\r\n",
        "Even = list(map(lambda x :x%2==0 , range(1,11)))\r\n",
        "print(Even)\r\n",
        "\r\n",
        "\r\n",
        "Even = list(filter(lambda x :x%2==0 , range(1,11)))\r\n",
        "print(Even)\r\n"
      ],
      "execution_count": 99,
      "outputs": [
        {
          "output_type": "stream",
          "text": [
            "<filter object at 0x7efc516802b0>\n",
            "[False, True, False, True, False, True, False, True, False, True]\n",
            "[2, 4, 6, 8, 10]\n"
          ],
          "name": "stdout"
        }
      ]
    },
    {
      "cell_type": "code",
      "metadata": {
        "colab": {
          "base_uri": "https://localhost:8080/"
        },
        "id": "3CCDxf07MK4Z",
        "outputId": "516b6851-ed5f-40df-8656-7479fe771b5b"
      },
      "source": [
        "Odd = list(map(lambda x : not x%2==0 , range(1,11)))\r\n",
        "print(Odd)\r\n",
        "\r\n",
        "Odd = list(filter(lambda x : not x%2==0 , range(1,11)))\r\n",
        "print(Odd)\r\n"
      ],
      "execution_count": 100,
      "outputs": [
        {
          "output_type": "stream",
          "text": [
            "[True, False, True, False, True, False, True, False, True, False]\n",
            "[1, 3, 5, 7, 9]\n"
          ],
          "name": "stdout"
        }
      ]
    },
    {
      "cell_type": "markdown",
      "metadata": {
        "id": "dwNqz1FPMsKi"
      },
      "source": [
        "# Reduce Function"
      ]
    },
    {
      "cell_type": "markdown",
      "metadata": {
        "id": "4kXoG5KrMr82"
      },
      "source": [
        "_Syntax_\r\n",
        "\r\n",
        "```python\r\n",
        "\r\n",
        "reduce(func , iterables)\r\n",
        "\r\n",
        "```"
      ]
    },
    {
      "cell_type": "markdown",
      "metadata": {
        "id": "1VfGktc1NrZ-"
      },
      "source": [
        "Reduce function working\r\n",
        "\r\n",
        "x,y\r\n",
        "1 + 2  = 3\r\n",
        "3 + 3  = 6\r\n",
        "6 + 4  = 10\r\n",
        "10 + 5 = 15\r\n"
      ]
    },
    {
      "cell_type": "code",
      "metadata": {
        "colab": {
          "base_uri": "https://localhost:8080/"
        },
        "id": "eBmmBYyHMqrG",
        "outputId": "0fc5ff47-9a66-4834-cbd2-30d9e9da8209"
      },
      "source": [
        "import functools\r\n",
        "\r\n",
        "List = [1,2,3,4,5] # Sum of elements in list\r\n",
        "\r\n",
        "sum = functools.reduce(lambda x , y : x + y,List)\r\n",
        "print(sum)"
      ],
      "execution_count": 101,
      "outputs": [
        {
          "output_type": "stream",
          "text": [
            "15\n"
          ],
          "name": "stdout"
        }
      ]
    },
    {
      "cell_type": "markdown",
      "metadata": {
        "id": "Vlofe0WhOIS6"
      },
      "source": [
        "================================================================================="
      ]
    },
    {
      "cell_type": "markdown",
      "metadata": {
        "id": "e8RmWkWVOKiV"
      },
      "source": [
        ""
      ]
    },
    {
      "cell_type": "code",
      "metadata": {
        "colab": {
          "base_uri": "https://localhost:8080/"
        },
        "id": "M0gjsz90OPO-",
        "outputId": "3f2822e6-cd1a-42de-c93a-f5ca7466640f"
      },
      "source": [
        "print(__name__)\r\n"
      ],
      "execution_count": 102,
      "outputs": [
        {
          "output_type": "stream",
          "text": [
            "__main__\n"
          ],
          "name": "stdout"
        }
      ]
    },
    {
      "cell_type": "code",
      "metadata": {
        "colab": {
          "base_uri": "https://localhost:8080/"
        },
        "id": "JIBDg3sxOaZA",
        "outputId": "4be47d7d-c52e-4176-b383-dafc1500816a"
      },
      "source": [
        "# calculator\r\n",
        "\r\n",
        "def add(a,b):\r\n",
        "  return a + b\r\n",
        "def sub(a,b):\r\n",
        "  return a - b\r\n",
        "def mul(a,b):\r\n",
        "  return a * b\r\n",
        "\r\n",
        "print(__name__)  \r\n",
        "print(add(a=2,b=3))\r\n",
        "print(mul(a=2,b=3))\r\n"
      ],
      "execution_count": 107,
      "outputs": [
        {
          "output_type": "stream",
          "text": [
            "__main__\n",
            "5\n",
            "6\n"
          ],
          "name": "stdout"
        }
      ]
    },
    {
      "cell_type": "code",
      "metadata": {
        "colab": {
          "base_uri": "https://localhost:8080/"
        },
        "id": "54OnRU7JPISK",
        "outputId": "edea70c7-5e50-4829-e833-c62dbe43584d"
      },
      "source": [
        "if __name__ == '__main__':\r\n",
        "  print(__name__)  \r\n",
        "  print(add(a=2,b=3))\r\n",
        "  print(mul(a=2,b=3))\r\n"
      ],
      "execution_count": 108,
      "outputs": [
        {
          "output_type": "stream",
          "text": [
            "__main__\n",
            "5\n",
            "6\n"
          ],
          "name": "stdout"
        }
      ]
    }
  ]
}